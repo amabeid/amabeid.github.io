{
 "cells": [
  {
   "cell_type": "code",
   "execution_count": 1,
   "metadata": {},
   "outputs": [],
   "source": [
    "import pandas as pd\n",
    "import matplotlib.pyplot as plt\n",
    "import seaborn as sns\n",
    "import scipy.stats as sc\n",
    "import numpy as np"
   ]
  },
  {
   "cell_type": "code",
   "execution_count": 2,
   "metadata": {},
   "outputs": [
    {
     "data": {
      "text/plain": [
       "(440, 8)"
      ]
     },
     "execution_count": 2,
     "metadata": {},
     "output_type": "execute_result"
    }
   ],
   "source": [
    "#######################################\n",
    "#1 READ 'wholesale_customers_data.csv'\n",
    "#######################################\n",
    "# Reading 'wholesale_customers_data.csv' into DataFrame 'df'\n",
    "df = pd.read_csv(\"/home/abeid/Documents/2-pm-asds/04-intro-to-data-science-with-python/assignment-2/wholesale_customers_data.csv\")\n",
    "\n",
    "# df shape\n",
    "df.shape\n",
    "\n",
    "# O Wholesale customers dataset has 440 rows of data across 8 variables."
   ]
  },
  {
   "cell_type": "code",
   "execution_count": 3,
   "metadata": {},
   "outputs": [
    {
     "data": {
      "text/plain": [
       "(446, 8)"
      ]
     },
     "execution_count": 3,
     "metadata": {},
     "output_type": "execute_result"
    }
   ],
   "source": [
    "# Append rows into DataFrame 'df'\n",
    "###################################\n",
    "\n",
    "# creating list of data series\n",
    "datarowsSeries = [pd.Series([1, 3, 39228, 1431, 764, 4510,93,2346], index=df.columns),\n",
    "                 pd.Series([1, 3, 14531, 1548, 343,437,841, 1800], index=df.columns),\n",
    "                 pd.Series([1, 3, 1016, 2016, 2016, 1016, 716, 2116], index=df.columns),\n",
    "                 pd.Series([1, 3, 1036, 2026, 2066, 1046, 1716, 2516], index=df.columns),\n",
    "                 pd.Series([1, 3, 1056, 2036, 2066, 1066, 2716, 2716], index=df.columns),\n",
    "                 pd.Series([1, 3, 1076, 2046, 2066, 1086, 3716, 2916], index=df.columns)]\n",
    "\n",
    "# appending list of data series with 'df' and assigning it to DataFrame 'df_new' \n",
    "df_new =  df.append(datarowsSeries, ignore_index=True)\n",
    "\n",
    "df_new.shape"
   ]
  },
  {
   "cell_type": "code",
   "execution_count": 4,
   "metadata": {
    "scrolled": true
   },
   "outputs": [
    {
     "data": {
      "text/html": [
       "<div>\n",
       "<style scoped>\n",
       "    .dataframe tbody tr th:only-of-type {\n",
       "        vertical-align: middle;\n",
       "    }\n",
       "\n",
       "    .dataframe tbody tr th {\n",
       "        vertical-align: top;\n",
       "    }\n",
       "\n",
       "    .dataframe thead th {\n",
       "        text-align: right;\n",
       "    }\n",
       "</style>\n",
       "<table border=\"1\" class=\"dataframe\">\n",
       "  <thead>\n",
       "    <tr style=\"text-align: right;\">\n",
       "      <th></th>\n",
       "      <th>Fresh</th>\n",
       "      <th>Milk</th>\n",
       "      <th>Grocery</th>\n",
       "      <th>Frozen</th>\n",
       "      <th>Detergents_Paper</th>\n",
       "      <th>Delicassen</th>\n",
       "    </tr>\n",
       "  </thead>\n",
       "  <tbody>\n",
       "    <tr>\n",
       "      <th>count</th>\n",
       "      <td>446.000000</td>\n",
       "      <td>446.000000</td>\n",
       "      <td>446.00000</td>\n",
       "      <td>446.00000</td>\n",
       "      <td>446.000000</td>\n",
       "      <td>446.000000</td>\n",
       "    </tr>\n",
       "    <tr>\n",
       "      <th>mean</th>\n",
       "      <td>11968.775785</td>\n",
       "      <td>5743.183857</td>\n",
       "      <td>7865.20852</td>\n",
       "      <td>3051.14574</td>\n",
       "      <td>2864.697309</td>\n",
       "      <td>1536.665919</td>\n",
       "    </tr>\n",
       "    <tr>\n",
       "      <th>std</th>\n",
       "      <td>12671.077458</td>\n",
       "      <td>7344.626047</td>\n",
       "      <td>9468.04341</td>\n",
       "      <td>4827.68344</td>\n",
       "      <td>4740.010059</td>\n",
       "      <td>2803.184225</td>\n",
       "    </tr>\n",
       "    <tr>\n",
       "      <th>min</th>\n",
       "      <td>3.000000</td>\n",
       "      <td>55.000000</td>\n",
       "      <td>3.00000</td>\n",
       "      <td>25.00000</td>\n",
       "      <td>3.000000</td>\n",
       "      <td>3.000000</td>\n",
       "    </tr>\n",
       "    <tr>\n",
       "      <th>25%</th>\n",
       "      <td>3089.500000</td>\n",
       "      <td>1537.500000</td>\n",
       "      <td>2115.00000</td>\n",
       "      <td>744.00000</td>\n",
       "      <td>258.500000</td>\n",
       "      <td>411.250000</td>\n",
       "    </tr>\n",
       "    <tr>\n",
       "      <th>50%</th>\n",
       "      <td>8413.500000</td>\n",
       "      <td>3607.500000</td>\n",
       "      <td>4725.00000</td>\n",
       "      <td>1498.00000</td>\n",
       "      <td>820.500000</td>\n",
       "      <td>982.500000</td>\n",
       "    </tr>\n",
       "    <tr>\n",
       "      <th>75%</th>\n",
       "      <td>16905.500000</td>\n",
       "      <td>7141.000000</td>\n",
       "      <td>10510.25000</td>\n",
       "      <td>3543.50000</td>\n",
       "      <td>3888.500000</td>\n",
       "      <td>1836.250000</td>\n",
       "    </tr>\n",
       "    <tr>\n",
       "      <th>max</th>\n",
       "      <td>112151.000000</td>\n",
       "      <td>73498.000000</td>\n",
       "      <td>92780.00000</td>\n",
       "      <td>60869.00000</td>\n",
       "      <td>40827.000000</td>\n",
       "      <td>47943.000000</td>\n",
       "    </tr>\n",
       "  </tbody>\n",
       "</table>\n",
       "</div>"
      ],
      "text/plain": [
       "               Fresh          Milk      Grocery       Frozen  \\\n",
       "count     446.000000    446.000000    446.00000    446.00000   \n",
       "mean    11968.775785   5743.183857   7865.20852   3051.14574   \n",
       "std     12671.077458   7344.626047   9468.04341   4827.68344   \n",
       "min         3.000000     55.000000      3.00000     25.00000   \n",
       "25%      3089.500000   1537.500000   2115.00000    744.00000   \n",
       "50%      8413.500000   3607.500000   4725.00000   1498.00000   \n",
       "75%     16905.500000   7141.000000  10510.25000   3543.50000   \n",
       "max    112151.000000  73498.000000  92780.00000  60869.00000   \n",
       "\n",
       "       Detergents_Paper    Delicassen  \n",
       "count        446.000000    446.000000  \n",
       "mean        2864.697309   1536.665919  \n",
       "std         4740.010059   2803.184225  \n",
       "min            3.000000      3.000000  \n",
       "25%          258.500000    411.250000  \n",
       "50%          820.500000    982.500000  \n",
       "75%         3888.500000   1836.250000  \n",
       "max        40827.000000  47943.000000  "
      ]
     },
     "execution_count": 4,
     "metadata": {},
     "output_type": "execute_result"
    }
   ],
   "source": [
    "#1.i ILLUSTRATE SUMMARY STATISTICS\n",
    "##################################\n",
    "# Channel and Region are categorical variables.\n",
    "# The rest of the 6 variables are ratio.\n",
    "\n",
    "# creating DataFrame with categorical variables 'df_newcat'\n",
    "df_newcat = df_new.drop([\"Fresh\", \"Milk\", \"Grocery\", \"Frozen\", \"Detergents_Paper\", \"Delicassen\"], axis=1)\n",
    "\n",
    "# creating DataFrame with numeric variables 'df_newnum' by dropping categorical variables from 'df_new'\n",
    "df_newnum = df_new.drop([\"Channel\", \"Region\"], axis=1)\n",
    "\n",
    "#####Descriptive Statistics for Numeric Variables#####\n",
    "df_newnum.describe()\n",
    "\n",
    "# O Annual customer spending is highest on Fresh products followed by Milk and Groceries on average\n",
    "# O On average customers spend the least on Delicassen products "
   ]
  },
  {
   "cell_type": "code",
   "execution_count": 5,
   "metadata": {},
   "outputs": [
    {
     "data": {
      "text/html": [
       "<div>\n",
       "<style scoped>\n",
       "    .dataframe tbody tr th:only-of-type {\n",
       "        vertical-align: middle;\n",
       "    }\n",
       "\n",
       "    .dataframe tbody tr th {\n",
       "        vertical-align: top;\n",
       "    }\n",
       "\n",
       "    .dataframe thead th {\n",
       "        text-align: right;\n",
       "    }\n",
       "</style>\n",
       "<table border=\"1\" class=\"dataframe\">\n",
       "  <thead>\n",
       "    <tr style=\"text-align: right;\">\n",
       "      <th></th>\n",
       "      <th>Channel</th>\n",
       "      <th>Region</th>\n",
       "    </tr>\n",
       "  </thead>\n",
       "  <tbody>\n",
       "    <tr>\n",
       "      <th>mode</th>\n",
       "      <td>1</td>\n",
       "      <td>3</td>\n",
       "    </tr>\n",
       "  </tbody>\n",
       "</table>\n",
       "</div>"
      ],
      "text/plain": [
       "      Channel  Region\n",
       "mode        1       3"
      ]
     },
     "execution_count": 5,
     "metadata": {},
     "output_type": "execute_result"
    }
   ],
   "source": [
    "#####Summary Measures for Categorical Variables#####\n",
    "\n",
    "# mode of categorical variables in 'mode_cat'\n",
    "mode_cat = df_newcat.mode()\n",
    "\n",
    "#renaming row label of 'mode_cat' DataFrame\n",
    "mode_cat.rename(index={0:'mode'}, inplace=True)\n",
    "\n",
    "mode_cat\n",
    "\n",
    "# O Most frequent customers are Hotel/Resaurant/Cafe.\n",
    "# O Highest number of customers are from 'Other' region."
   ]
  },
  {
   "cell_type": "code",
   "execution_count": 6,
   "metadata": {},
   "outputs": [
    {
     "data": {
      "image/png": "[encoded data removed]",
      "text/plain": [
       "<Figure size 1080x1080 with 42 Axes>"
      ]
     },
     "metadata": {},
     "output_type": "display_data"
    }
   ],
   "source": [
    "# 1.ii CALCULATE THE COVARIANCE MATRIX AND CORRELATION MATRIX OF THE VARIABLES. INTERPRET THE RESULTS.\n",
    "######################################################################################################\n",
    "\n",
    "######Plotting Scatter Dagrams to Evaluate the Relationship between Variables#####\n",
    "sns.set_style('whitegrid');\n",
    "sns.pairplot(df_newnum)\n",
    "# plt.title('Figure-3: Scatterplot Matrix')\n",
    "plt.show()\n",
    "\n",
    "# O Linear relationship: Milk and Grocery, Milk and Detergents_Paper, Grocery and Detergents_Paper,\n",
    "\n",
    "# O Monotonic relationship: None\n",
    "\n",
    "# O Non-linear relationship: Fresh and Milk, Fresh and Grocery, Fresh and Frozen, Fresh and Detergents_Paper,\n",
    "# Fresh and Delicassen, Milk and Frozen, Milk and Delicassen, Grocery and Frozen, Grocery and Delicassen,\n",
    "# Frozen and Detergents_Paper, Frozen and Delicassen, Detergents_Paper and Delicassen"
   ]
  },
  {
   "cell_type": "code",
   "execution_count": 7,
   "metadata": {},
   "outputs": [
    {
     "data": {
      "text/html": [
       "<div>\n",
       "<style scoped>\n",
       "    .dataframe tbody tr th:only-of-type {\n",
       "        vertical-align: middle;\n",
       "    }\n",
       "\n",
       "    .dataframe tbody tr th {\n",
       "        vertical-align: top;\n",
       "    }\n",
       "\n",
       "    .dataframe thead th {\n",
       "        text-align: right;\n",
       "    }\n",
       "</style>\n",
       "<table border=\"1\" class=\"dataframe\">\n",
       "  <thead>\n",
       "    <tr style=\"text-align: right;\">\n",
       "      <th></th>\n",
       "      <th>Milk</th>\n",
       "      <th>Grocery</th>\n",
       "      <th>Detergents_Paper</th>\n",
       "    </tr>\n",
       "  </thead>\n",
       "  <tbody>\n",
       "    <tr>\n",
       "      <th>Milk</th>\n",
       "      <td>1.000000</td>\n",
       "      <td>0.729554</td>\n",
       "      <td>0.661894</td>\n",
       "    </tr>\n",
       "    <tr>\n",
       "      <th>Grocery</th>\n",
       "      <td>0.729554</td>\n",
       "      <td>1.000000</td>\n",
       "      <td>0.923474</td>\n",
       "    </tr>\n",
       "    <tr>\n",
       "      <th>Detergents_Paper</th>\n",
       "      <td>0.661894</td>\n",
       "      <td>0.923474</td>\n",
       "      <td>1.000000</td>\n",
       "    </tr>\n",
       "  </tbody>\n",
       "</table>\n",
       "</div>"
      ],
      "text/plain": [
       "                      Milk   Grocery  Detergents_Paper\n",
       "Milk              1.000000  0.729554          0.661894\n",
       "Grocery           0.729554  1.000000          0.923474\n",
       "Detergents_Paper  0.661894  0.923474          1.000000"
      ]
     },
     "execution_count": 7,
     "metadata": {},
     "output_type": "execute_result"
    }
   ],
   "source": [
    "# Correlation matrix has been computed for the numeric variables. Channel and Region are nominal variables and hence,\n",
    "# their correlation cannot be computed.\n",
    "\n",
    "#####Correlation Matrix for Numeric Variables with Linear Relationship#####\n",
    "df_newnum.drop([\"Fresh\",\"Frozen\", \"Delicassen\"], axis=1).corr()\n",
    "\n",
    "# O Strong positive correlation exists between Grocery and Detergents_Paper as indicated by pearson's r of 0.92 which \n",
    "# means that if annual spending on Grocery products increases, then it will also increase on Detergents_Paper products and vice versa.\n",
    "\n",
    "# O Pearson's r of 0.73 shows a moderate positive correlation between Milk and Grocery.\n",
    "\n",
    "# O Milk and Detergents_Paper also have a moderate positive correlation between them with Pearson's r of 0.66."
   ]
  },
  {
   "cell_type": "code",
   "execution_count": 8,
   "metadata": {},
   "outputs": [
    {
     "name": "stdout",
     "output_type": "stream",
     "text": [
      "Spearmans correlation coefficient: -0.080\n",
      "Samples are not correlated (fail to reject H0) p=0.092\n"
     ]
    }
   ],
   "source": [
    "#####Correlation Test (Spearman's r)#####\n",
    "\n",
    "# Calculating Spearman's r because assumptions for Pearson's r have not been met.\n",
    "\n",
    "# Spearman's r for Fresh and Milk\n",
    "coef, p = sc.spearmanr(df_new.Fresh, df_new.Milk)\n",
    "print('Spearmans correlation coefficient: %.3f' % coef)\n",
    "# interpret the significance\n",
    "alpha = 0.05\n",
    "if p > alpha:\n",
    "\tprint('Samples are not correlated (fail to reject H0) p=%.3f' % p)\n",
    "else:\n",
    "\tprint('Samples are correlated (reject H0) p=%.3f' % p)   \n",
    "\n",
    "# O Fresh and Milk are not correlated (p > alpha)."
   ]
  },
  {
   "cell_type": "code",
   "execution_count": 9,
   "metadata": {},
   "outputs": [
    {
     "name": "stdout",
     "output_type": "stream",
     "text": [
      "Spearmans correlation coefficient: -0.114\n",
      "Samples are correlated (reject H0) p=0.016\n"
     ]
    }
   ],
   "source": [
    "# Spearman's r for Fresh and Grocery\n",
    "coef, p = sc.spearmanr(df_new.Fresh, df_new.Grocery)\n",
    "print('Spearmans correlation coefficient: %.3f' % coef)\n",
    "# interpret the significance\n",
    "alpha = 0.05\n",
    "if p > alpha:\n",
    "\tprint('Samples are not correlated (fail to reject H0) p=%.3f' % p)\n",
    "else:\n",
    "\tprint('Samples are correlated (reject H0) p=%.3f' % p)  \n",
    "\n",
    "# O Fresh and Grocery are correlated. They have very weak negative relationship as shown by r of -0.11."
   ]
  },
  {
   "cell_type": "code",
   "execution_count": 10,
   "metadata": {},
   "outputs": [
    {
     "name": "stdout",
     "output_type": "stream",
     "text": [
      "Spearmans correlation coefficient: 0.386\n",
      "Samples are correlated (reject H0) p=0.000\n"
     ]
    }
   ],
   "source": [
    "# Spearman's r for Fresh and Frozen\n",
    "coef, p = sc.spearmanr(df_new.Fresh, df_new.Frozen)\n",
    "print('Spearmans correlation coefficient: %.3f' % coef)\n",
    "# interpret the significance\n",
    "alpha = 0.05\n",
    "if p > alpha:\n",
    "\tprint('Samples are not correlated (fail to reject H0) p=%.3f' % p)\n",
    "else:\n",
    "\tprint('Samples are correlated (reject H0) p=%.3f' % p)  \n",
    "\n",
    "# O Fresh and Frozen are correlated. They have weak positive relationship (r = 0.39)."
   ]
  },
  {
   "cell_type": "code",
   "execution_count": 11,
   "metadata": {},
   "outputs": [
    {
     "name": "stdout",
     "output_type": "stream",
     "text": [
      "Spearmans correlation coefficient: -0.206\n",
      "Samples are correlated (reject H0) p=0.000\n"
     ]
    }
   ],
   "source": [
    "# Spearman's r for Fresh and Detergents_Paper\n",
    "coef, p = sc.spearmanr(df_new.Fresh, df_new.Detergents_Paper)\n",
    "print('Spearmans correlation coefficient: %.3f' % coef)\n",
    "# interpret the significance\n",
    "alpha = 0.05\n",
    "if p > alpha:\n",
    "\tprint('Samples are not correlated (fail to reject H0) p=%.3f' % p)\n",
    "else:\n",
    "\tprint('Samples are correlated (reject H0) p=%.3f' % p)  \n",
    "\n",
    "# O Fresh and Detergents_Paper are correlated. They have weak negative relationship (r = 0.21)."
   ]
  },
  {
   "cell_type": "code",
   "execution_count": 12,
   "metadata": {},
   "outputs": [
    {
     "name": "stdout",
     "output_type": "stream",
     "text": [
      "Spearmans correlation coefficient: 0.225\n",
      "Samples are correlated (reject H0) p=0.000\n"
     ]
    }
   ],
   "source": [
    "# Spearman's r for Fresh and Delicassen\n",
    "coef, p = sc.spearmanr(df_new.Fresh, df_new.Delicassen)\n",
    "print('Spearmans correlation coefficient: %.3f' % coef)\n",
    "# interpret the significance\n",
    "alpha = 0.05\n",
    "if p > alpha:\n",
    "\tprint('Samples are not correlated (fail to reject H0) p=%.3f' % p)\n",
    "else:\n",
    "\tprint('Samples are correlated (reject H0) p=%.3f' % p)  \n",
    "\n",
    "# O Fresh and Delicassen have a weak positive relationship (r = 0.23)."
   ]
  },
  {
   "cell_type": "code",
   "execution_count": null,
   "metadata": {},
   "outputs": [],
   "source": []
  },
  {
   "cell_type": "code",
   "execution_count": 13,
   "metadata": {},
   "outputs": [
    {
     "name": "stdout",
     "output_type": "stream",
     "text": [
      "Spearmans correlation coefficient: -0.090\n",
      "Samples are not correlated (fail to reject H0) p=0.057\n"
     ]
    }
   ],
   "source": [
    "# Spearman's r for Milk and Frozen\n",
    "coef, p = sc.spearmanr(df_new.Milk, df_new.Frozen)\n",
    "print('Spearmans correlation coefficient: %.3f' % coef)\n",
    "# interpret the significance\n",
    "alpha = 0.05\n",
    "if p > alpha:\n",
    "\tprint('Samples are not correlated (fail to reject H0) p=%.3f' % p)\n",
    "else:\n",
    "\tprint('Samples are correlated (reject H0) p=%.3f' % p)  \n",
    "\n",
    "# O Milk and Frozen are not correlated (p > alpha)."
   ]
  },
  {
   "cell_type": "code",
   "execution_count": null,
   "metadata": {},
   "outputs": [],
   "source": []
  },
  {
   "cell_type": "code",
   "execution_count": 14,
   "metadata": {},
   "outputs": [
    {
     "name": "stdout",
     "output_type": "stream",
     "text": [
      "Spearmans correlation coefficient: 0.359\n",
      "Samples are correlated (reject H0) p=0.000\n"
     ]
    }
   ],
   "source": [
    "# Spearman's r for Milk and Delicassen\n",
    "coef, p = sc.spearmanr(df_new.Milk, df_new.Delicassen)\n",
    "print('Spearmans correlation coefficient: %.3f' % coef)\n",
    "# interpret the significance\n",
    "alpha = 0.05\n",
    "if p > alpha:\n",
    "\tprint('Samples are not correlated (fail to reject H0) p=%.3f' % p)\n",
    "else:\n",
    "\tprint('Samples are correlated (reject H0) p=%.3f' % p)  \n",
    "\n",
    "# O Milk and Delicassen have a weak positive correlation (r = 0.36)"
   ]
  },
  {
   "cell_type": "code",
   "execution_count": 15,
   "metadata": {},
   "outputs": [
    {
     "name": "stdout",
     "output_type": "stream",
     "text": [
      "Spearmans correlation coefficient: -0.162\n",
      "Samples are correlated (reject H0) p=0.001\n"
     ]
    }
   ],
   "source": [
    "# Spearman's r for Grocery and Frozen\n",
    "coef, p = sc.spearmanr(df_new.Grocery, df_new.Frozen)\n",
    "print('Spearmans correlation coefficient: %.3f' % coef)\n",
    "# interpret the significance\n",
    "alpha = 0.05\n",
    "if p > alpha:\n",
    "\tprint('Samples are not correlated (fail to reject H0) p=%.3f' % p)\n",
    "else:\n",
    "\tprint('Samples are correlated (reject H0) p=%.3f' % p)  \n",
    "\n",
    "# O Grocery and Frozen have a very weak negative correlation (r = -0.162)"
   ]
  },
  {
   "cell_type": "code",
   "execution_count": null,
   "metadata": {},
   "outputs": [],
   "source": []
  },
  {
   "cell_type": "code",
   "execution_count": 16,
   "metadata": {},
   "outputs": [
    {
     "name": "stdout",
     "output_type": "stream",
     "text": [
      "Spearmans correlation coefficient: 0.282\n",
      "Samples are correlated (reject H0) p=0.000\n"
     ]
    }
   ],
   "source": [
    "# Spearman's r for Grocery and Delicassen\n",
    "coef, p = sc.spearmanr(df_new.Grocery, df_new.Delicassen)\n",
    "print('Spearmans correlation coefficient: %.3f' % coef)\n",
    "# interpret the significance\n",
    "alpha = 0.05\n",
    "if p > alpha:\n",
    "\tprint('Samples are not correlated (fail to reject H0) p=%.3f' % p)\n",
    "else:\n",
    "\tprint('Samples are correlated (reject H0) p=%.3f' % p)  \n",
    "\n",
    "# O Grocery and Delicassen have a weak positive correlation (r= 0.28)."
   ]
  },
  {
   "cell_type": "code",
   "execution_count": 17,
   "metadata": {},
   "outputs": [
    {
     "name": "stdout",
     "output_type": "stream",
     "text": [
      "Spearmans correlation coefficient: -0.212\n",
      "Samples are correlated (reject H0) p=0.000\n"
     ]
    }
   ],
   "source": [
    "# Spearman's r for Frozen and Detergents_Paper\n",
    "coef, p = sc.spearmanr(df_new.Frozen, df_new.Detergents_Paper)\n",
    "print('Spearmans correlation coefficient: %.3f' % coef)\n",
    "# interpret the significance\n",
    "alpha = 0.05\n",
    "if p > alpha:\n",
    "\tprint('Samples are not correlated (fail to reject H0) p=%.3f' % p)\n",
    "else:\n",
    "\tprint('Samples are correlated (reject H0) p=%.3f' % p)  \n",
    "\n",
    "# O Frozen and Detergents_Paper have a weak neagative correlation (r= 0.21)."
   ]
  },
  {
   "cell_type": "code",
   "execution_count": 18,
   "metadata": {},
   "outputs": [
    {
     "name": "stdout",
     "output_type": "stream",
     "text": [
      "Spearmans correlation coefficient: 0.226\n",
      "Samples are correlated (reject H0) p=0.000\n"
     ]
    }
   ],
   "source": [
    "# Spearman's r for Frozen and Delicassen\n",
    "coef, p = sc.spearmanr(df_new.Frozen, df_new.Delicassen)\n",
    "print('Spearmans correlation coefficient: %.3f' % coef)\n",
    "# interpret the significance\n",
    "alpha = 0.05\n",
    "if p > alpha:\n",
    "\tprint('Samples are not correlated (fail to reject H0) p=%.3f' % p)\n",
    "else:\n",
    "\tprint('Samples are correlated (reject H0) p=%.3f' % p)  \n",
    "\n",
    "# O Frozen and Delicassen have a weak positive correlation (r= 0.23)."
   ]
  },
  {
   "cell_type": "code",
   "execution_count": 19,
   "metadata": {},
   "outputs": [
    {
     "name": "stdout",
     "output_type": "stream",
     "text": [
      "Spearmans correlation coefficient: 0.184\n",
      "Samples are correlated (reject H0) p=0.000\n"
     ]
    }
   ],
   "source": [
    "# Spearman's r for Detergents_Paper and Delicassen\n",
    "coef, p = sc.spearmanr(df_new.Detergents_Paper, df_new.Delicassen)\n",
    "print('Spearmans correlation coefficient: %.3f' % coef)\n",
    "# interpret the significance\n",
    "alpha = 0.05\n",
    "if p > alpha:\n",
    "\tprint('Samples are not correlated (fail to reject H0) p=%.3f' % p)\n",
    "else:\n",
    "\tprint('Samples are correlated (reject H0) p=%.3f' % p)  \n",
    "\n",
    "# O Detergents_Paper and Delicassen have a very weak positive correlation (r= 0.18)."
   ]
  },
  {
   "cell_type": "code",
   "execution_count": 20,
   "metadata": {},
   "outputs": [
    {
     "data": {
      "image/png": "[encoded data removed]",
      "text/plain": [
       "<Figure size 432x288 with 1 Axes>"
      ]
     },
     "metadata": {},
     "output_type": "display_data"
    }
   ],
   "source": [
    "# 1.iii GRAPHICALLY EXAMINE AND INPRET REGION-WISE AND CHANNEL-WISE CUSTOMERS DISTRIBUTION\n",
    "##########################################################################################\n",
    "\n",
    "# As Channel and Region are nominal variables, we can use pie chart or bar diagram to represent\n",
    "# them graphically.\n",
    "\n",
    "\n",
    "#####Pie Chart of Channel#####\n",
    "\n",
    "# frequency of channel\n",
    "# df_new[\"Channel\"].value_counts().sort_index()\n",
    "\n",
    "channel_fre = [304, 142]\n",
    "labels = ['Horeca', 'Retail channel']\n",
    "colors = ['indianred', 'violet']\n",
    "\n",
    "plt.pie(channel_fre,labels=labels, colors=colors, autopct='%.2f%%', radius = 1.1)\n",
    "plt.title('Pie Chart of Channel')\n",
    "plt.show()\n",
    "\n",
    "# O Approaximately 68% of the customers represent Hotel/Restaurant/Cafe. \n",
    "# O 32% (approax.) of the customers represents Retail channel."
   ]
  },
  {
   "cell_type": "code",
   "execution_count": 21,
   "metadata": {},
   "outputs": [
    {
     "data": {
      "image/png": "[encoded data removed]",
      "text/plain": [
       "<Figure size 432x288 with 1 Axes>"
      ]
     },
     "metadata": {},
     "output_type": "display_data"
    }
   ],
   "source": [
    "#####Pie Chart of Region#####\n",
    "\n",
    "# frequency of region\n",
    "# df_new[\"Region\"].value_counts().sort_index()\n",
    "\n",
    "channel_fre = [77, 47, 322]\n",
    "labels = ['Lisnon', 'Oporto', 'Other']\n",
    "colors = ['indianred', 'orange', 'lightgreen']\n",
    "\n",
    "plt.pie(channel_fre,labels=labels, colors=colors, autopct='%.2f%%', radius = 1.1)\n",
    "plt.title('Pie Chart of Region')\n",
    "plt.show()\n",
    "\n",
    "# O Most customers belong to 'Other' region (72% approax.). Approaximately 17% are from Lisnon and 11% from Oporto."
   ]
  },
  {
   "cell_type": "code",
   "execution_count": 22,
   "metadata": {},
   "outputs": [
    {
     "data": {
      "image/png": "[encoded data removed]",
      "text/plain": [
       "<Figure size 432x288 with 1 Axes>"
      ]
     },
     "metadata": {},
     "output_type": "display_data"
    }
   ],
   "source": [
    "#####Bar diagram of Region#####\n",
    "objects = ('Lisnon', 'Oporto', 'Other')\n",
    "color = ['indianred', 'orange', 'lightgreen']\n",
    "x_pos = np.arange(len(objects))\n",
    "quality_fre = [77, 47, 322]\n",
    "\n",
    "plt.bar(x_pos, quality_fre, color=color)\n",
    "plt.xticks(x_pos, objects)\n",
    "plt.ylabel('Number of Customers')\n",
    "plt.title('Bar Diagram of Region')\n",
    "plt.show()\n"
   ]
  },
  {
   "cell_type": "code",
   "execution_count": 23,
   "metadata": {},
   "outputs": [],
   "source": [
    "###################################################################################################################"
   ]
  },
  {
   "cell_type": "code",
   "execution_count": 24,
   "metadata": {},
   "outputs": [
    {
     "data": {
      "text/plain": [
       "0"
      ]
     },
     "execution_count": 24,
     "metadata": {},
     "output_type": "execute_result"
    }
   ],
   "source": [
    "# 2 USE THE UNSUPERVISED LEARNING METHOD - FOR CLUSTERING CUSTOMERS INTO DIFFERENT GROUPS\n",
    "#########################################################################################\n",
    "np.mod(16, 4)\n",
    "\n",
    "# np.mod(16, 4) = 0, therefore I will use Single linkage method"
   ]
  },
  {
   "cell_type": "code",
   "execution_count": 25,
   "metadata": {},
   "outputs": [
    {
     "data": {
      "text/html": [
       "<div>\n",
       "<style scoped>\n",
       "    .dataframe tbody tr th:only-of-type {\n",
       "        vertical-align: middle;\n",
       "    }\n",
       "\n",
       "    .dataframe tbody tr th {\n",
       "        vertical-align: top;\n",
       "    }\n",
       "\n",
       "    .dataframe thead th {\n",
       "        text-align: right;\n",
       "    }\n",
       "</style>\n",
       "<table border=\"1\" class=\"dataframe\">\n",
       "  <thead>\n",
       "    <tr style=\"text-align: right;\">\n",
       "      <th></th>\n",
       "      <th>0</th>\n",
       "      <th>1</th>\n",
       "      <th>2</th>\n",
       "      <th>3</th>\n",
       "      <th>4</th>\n",
       "      <th>5</th>\n",
       "      <th>6</th>\n",
       "      <th>7</th>\n",
       "      <th>8</th>\n",
       "      <th>9</th>\n",
       "      <th>...</th>\n",
       "      <th>436</th>\n",
       "      <th>437</th>\n",
       "      <th>438</th>\n",
       "      <th>439</th>\n",
       "      <th>440</th>\n",
       "      <th>441</th>\n",
       "      <th>442</th>\n",
       "      <th>443</th>\n",
       "      <th>444</th>\n",
       "      <th>445</th>\n",
       "    </tr>\n",
       "  </thead>\n",
       "  <tbody>\n",
       "    <tr>\n",
       "      <th>Channel</th>\n",
       "      <td>0.000112</td>\n",
       "      <td>0.000125</td>\n",
       "      <td>0.000125</td>\n",
       "      <td>0.000065</td>\n",
       "      <td>0.000079</td>\n",
       "      <td>0.000146</td>\n",
       "      <td>0.000136</td>\n",
       "      <td>0.000145</td>\n",
       "      <td>0.000105</td>\n",
       "      <td>0.000083</td>\n",
       "      <td>...</td>\n",
       "      <td>0.000025</td>\n",
       "      <td>0.000050</td>\n",
       "      <td>0.000091</td>\n",
       "      <td>0.000241</td>\n",
       "      <td>0.000025</td>\n",
       "      <td>0.000068</td>\n",
       "      <td>0.000257</td>\n",
       "      <td>0.000225</td>\n",
       "      <td>0.000198</td>\n",
       "      <td>0.000174</td>\n",
       "    </tr>\n",
       "    <tr>\n",
       "      <th>Region</th>\n",
       "      <td>0.000168</td>\n",
       "      <td>0.000188</td>\n",
       "      <td>0.000187</td>\n",
       "      <td>0.000194</td>\n",
       "      <td>0.000119</td>\n",
       "      <td>0.000218</td>\n",
       "      <td>0.000204</td>\n",
       "      <td>0.000217</td>\n",
       "      <td>0.000315</td>\n",
       "      <td>0.000125</td>\n",
       "      <td>...</td>\n",
       "      <td>0.000076</td>\n",
       "      <td>0.000075</td>\n",
       "      <td>0.000273</td>\n",
       "      <td>0.000724</td>\n",
       "      <td>0.000076</td>\n",
       "      <td>0.000203</td>\n",
       "      <td>0.000770</td>\n",
       "      <td>0.000674</td>\n",
       "      <td>0.000595</td>\n",
       "      <td>0.000521</td>\n",
       "    </tr>\n",
       "    <tr>\n",
       "      <th>Fresh</th>\n",
       "      <td>0.708333</td>\n",
       "      <td>0.442198</td>\n",
       "      <td>0.396552</td>\n",
       "      <td>0.856837</td>\n",
       "      <td>0.895416</td>\n",
       "      <td>0.684944</td>\n",
       "      <td>0.824476</td>\n",
       "      <td>0.548036</td>\n",
       "      <td>0.625457</td>\n",
       "      <td>0.250143</td>\n",
       "      <td>...</td>\n",
       "      <td>0.990872</td>\n",
       "      <td>0.364462</td>\n",
       "      <td>0.937737</td>\n",
       "      <td>0.672296</td>\n",
       "      <td>0.990872</td>\n",
       "      <td>0.984610</td>\n",
       "      <td>0.260743</td>\n",
       "      <td>0.232733</td>\n",
       "      <td>0.209454</td>\n",
       "      <td>0.187015</td>\n",
       "    </tr>\n",
       "    <tr>\n",
       "      <th>Milk</th>\n",
       "      <td>0.539874</td>\n",
       "      <td>0.614704</td>\n",
       "      <td>0.549792</td>\n",
       "      <td>0.077254</td>\n",
       "      <td>0.214203</td>\n",
       "      <td>0.600972</td>\n",
       "      <td>0.217508</td>\n",
       "      <td>0.358368</td>\n",
       "      <td>0.382637</td>\n",
       "      <td>0.462010</td>\n",
       "      <td>...</td>\n",
       "      <td>0.036146</td>\n",
       "      <td>0.388465</td>\n",
       "      <td>0.180530</td>\n",
       "      <td>0.409601</td>\n",
       "      <td>0.036146</td>\n",
       "      <td>0.104891</td>\n",
       "      <td>0.517380</td>\n",
       "      <td>0.455133</td>\n",
       "      <td>0.403834</td>\n",
       "      <td>0.355606</td>\n",
       "    </tr>\n",
       "    <tr>\n",
       "      <th>Grocery</th>\n",
       "      <td>0.422741</td>\n",
       "      <td>0.599540</td>\n",
       "      <td>0.479632</td>\n",
       "      <td>0.272650</td>\n",
       "      <td>0.284997</td>\n",
       "      <td>0.372997</td>\n",
       "      <td>0.474247</td>\n",
       "      <td>0.681593</td>\n",
       "      <td>0.649477</td>\n",
       "      <td>0.786371</td>\n",
       "      <td>...</td>\n",
       "      <td>0.019298</td>\n",
       "      <td>0.758545</td>\n",
       "      <td>0.203404</td>\n",
       "      <td>0.605476</td>\n",
       "      <td>0.019298</td>\n",
       "      <td>0.023241</td>\n",
       "      <td>0.517380</td>\n",
       "      <td>0.464119</td>\n",
       "      <td>0.409785</td>\n",
       "      <td>0.359082</td>\n",
       "    </tr>\n",
       "  </tbody>\n",
       "</table>\n",
       "<p>5 rows × 446 columns</p>\n",
       "</div>"
      ],
      "text/plain": [
       "              0         1         2         3         4         5         6    \\\n",
       "Channel  0.000112  0.000125  0.000125  0.000065  0.000079  0.000146  0.000136   \n",
       "Region   0.000168  0.000188  0.000187  0.000194  0.000119  0.000218  0.000204   \n",
       "Fresh    0.708333  0.442198  0.396552  0.856837  0.895416  0.684944  0.824476   \n",
       "Milk     0.539874  0.614704  0.549792  0.077254  0.214203  0.600972  0.217508   \n",
       "Grocery  0.422741  0.599540  0.479632  0.272650  0.284997  0.372997  0.474247   \n",
       "\n",
       "              7         8         9    ...       436       437       438  \\\n",
       "Channel  0.000145  0.000105  0.000083  ...  0.000025  0.000050  0.000091   \n",
       "Region   0.000217  0.000315  0.000125  ...  0.000076  0.000075  0.000273   \n",
       "Fresh    0.548036  0.625457  0.250143  ...  0.990872  0.364462  0.937737   \n",
       "Milk     0.358368  0.382637  0.462010  ...  0.036146  0.388465  0.180530   \n",
       "Grocery  0.681593  0.649477  0.786371  ...  0.019298  0.758545  0.203404   \n",
       "\n",
       "              439       440       441       442       443       444       445  \n",
       "Channel  0.000241  0.000025  0.000068  0.000257  0.000225  0.000198  0.000174  \n",
       "Region   0.000724  0.000076  0.000203  0.000770  0.000674  0.000595  0.000521  \n",
       "Fresh    0.672296  0.990872  0.984610  0.260743  0.232733  0.209454  0.187015  \n",
       "Milk     0.409601  0.036146  0.104891  0.517380  0.455133  0.403834  0.355606  \n",
       "Grocery  0.605476  0.019298  0.023241  0.517380  0.464119  0.409785  0.359082  \n",
       "\n",
       "[5 rows x 446 columns]"
      ]
     },
     "execution_count": 25,
     "metadata": {},
     "output_type": "execute_result"
    }
   ],
   "source": [
    "#####Clustering#####\n",
    "\n",
    "# Clustering data with Dendrogram using Single Linkage\n",
    "\n",
    "# normalizing the data and bringing all the variables to the same scale\n",
    "from sklearn.preprocessing import normalize\n",
    "data_scaled = normalize(df_new)\n",
    "\n",
    "# creating DataFrame for the scaled data\n",
    "data_scaled = pd.DataFrame(data_scaled, columns=df_new.columns)\n",
    "data_scaled.head()\n",
    "\n",
    "# transposing data_scaled for variable-wise clustering\n",
    "data_scaled=data_scaled.transpose()\n",
    "data_scaled.head()"
   ]
  },
  {
   "cell_type": "code",
   "execution_count": 26,
   "metadata": {},
   "outputs": [
    {
     "data": {
      "image/png": "[encoded data removed]",
      "text/plain": [
       "<Figure size 720x504 with 1 Axes>"
      ]
     },
     "metadata": {},
     "output_type": "display_data"
    }
   ],
   "source": [
    "# plotting dendrogram\n",
    "import scipy.cluster.hierarchy as shc\n",
    "plt.figure(figsize=(10, 7))  \n",
    "plt.title(\"Dendrograms using Single\")  \n",
    "dend = shc.dendrogram(shc.linkage(data_scaled, method='single'))\n",
    "\n",
    "# the blue line at x = 2 is the vertical line with the maximum distance. Hence, setting a threshold at the midpoint of the blue line (y = 6).\n",
    "plt.axhline(y=6, color='r', linestyle='--')\n",
    "plt.show()\n",
    "\n",
    "# O the threshold intersects two vertical lines. Thus, our number of clusters is 2."
   ]
  },
  {
   "cell_type": "code",
   "execution_count": 27,
   "metadata": {},
   "outputs": [
    {
     "data": {
      "text/plain": [
       "Channel             0\n",
       "Region              0\n",
       "Fresh               1\n",
       "Milk                0\n",
       "Grocery             0\n",
       "Frozen              0\n",
       "Detergents_Paper    0\n",
       "Delicassen          0\n",
       "Name: GROUP, dtype: int64"
      ]
     },
     "execution_count": 27,
     "metadata": {},
     "output_type": "execute_result"
    }
   ],
   "source": [
    "# Hierarchical Agglomerative Clustering with Single Linkage for 2 Clusters\n",
    "from sklearn.cluster import AgglomerativeClustering\n",
    "cluster = AgglomerativeClustering(n_clusters=2, affinity='euclidean', linkage='single')\n",
    "cluster.fit_predict(data_scaled)\n",
    "\n",
    "# Creating a new variable 'GROUP' in the data frame\n",
    "data_scaled['GROUP']=cluster.fit_predict(data_scaled)\n",
    "data_scaled['GROUP']\n",
    "\n"
   ]
  },
  {
   "cell_type": "code",
   "execution_count": null,
   "metadata": {},
   "outputs": [],
   "source": []
  },
  {
   "cell_type": "code",
   "execution_count": 28,
   "metadata": {},
   "outputs": [],
   "source": [
    "#####Exploring the features of the different groups#####\n",
    "\n",
    "# O Features in Group-1: Fresh\n",
    "# O Feature in Group-0: Channel, Region, Fresh, Milk, Grocery, Frozen, Detergents_Paper, Delicassen\n"
   ]
  },
  {
   "cell_type": "code",
   "execution_count": 29,
   "metadata": {},
   "outputs": [],
   "source": [
    "##################################################################################################################"
   ]
  },
  {
   "cell_type": "code",
   "execution_count": 30,
   "metadata": {},
   "outputs": [
    {
     "data": {
      "text/html": [
       "<div>\n",
       "<style scoped>\n",
       "    .dataframe tbody tr th:only-of-type {\n",
       "        vertical-align: middle;\n",
       "    }\n",
       "\n",
       "    .dataframe tbody tr th {\n",
       "        vertical-align: top;\n",
       "    }\n",
       "\n",
       "    .dataframe thead th {\n",
       "        text-align: right;\n",
       "    }\n",
       "</style>\n",
       "<table border=\"1\" class=\"dataframe\">\n",
       "  <thead>\n",
       "    <tr style=\"text-align: right;\">\n",
       "      <th></th>\n",
       "      <th>Channel</th>\n",
       "      <th>Region</th>\n",
       "      <th>Fresh</th>\n",
       "      <th>Milk</th>\n",
       "      <th>Grocery</th>\n",
       "      <th>Frozen</th>\n",
       "      <th>Detergents_Paper</th>\n",
       "      <th>Delicassen</th>\n",
       "      <th>Total_Consumption</th>\n",
       "    </tr>\n",
       "  </thead>\n",
       "  <tbody>\n",
       "    <tr>\n",
       "      <th>0</th>\n",
       "      <td>2</td>\n",
       "      <td>3</td>\n",
       "      <td>12669</td>\n",
       "      <td>9656</td>\n",
       "      <td>7561</td>\n",
       "      <td>214</td>\n",
       "      <td>2674</td>\n",
       "      <td>1338</td>\n",
       "      <td>34112</td>\n",
       "    </tr>\n",
       "    <tr>\n",
       "      <th>1</th>\n",
       "      <td>2</td>\n",
       "      <td>3</td>\n",
       "      <td>7057</td>\n",
       "      <td>9810</td>\n",
       "      <td>9568</td>\n",
       "      <td>1762</td>\n",
       "      <td>3293</td>\n",
       "      <td>1776</td>\n",
       "      <td>33266</td>\n",
       "    </tr>\n",
       "    <tr>\n",
       "      <th>2</th>\n",
       "      <td>2</td>\n",
       "      <td>3</td>\n",
       "      <td>6353</td>\n",
       "      <td>8808</td>\n",
       "      <td>7684</td>\n",
       "      <td>2405</td>\n",
       "      <td>3516</td>\n",
       "      <td>7844</td>\n",
       "      <td>36610</td>\n",
       "    </tr>\n",
       "    <tr>\n",
       "      <th>3</th>\n",
       "      <td>1</td>\n",
       "      <td>3</td>\n",
       "      <td>13265</td>\n",
       "      <td>1196</td>\n",
       "      <td>4221</td>\n",
       "      <td>6404</td>\n",
       "      <td>507</td>\n",
       "      <td>1788</td>\n",
       "      <td>27381</td>\n",
       "    </tr>\n",
       "    <tr>\n",
       "      <th>4</th>\n",
       "      <td>2</td>\n",
       "      <td>3</td>\n",
       "      <td>22615</td>\n",
       "      <td>5410</td>\n",
       "      <td>7198</td>\n",
       "      <td>3915</td>\n",
       "      <td>1777</td>\n",
       "      <td>5185</td>\n",
       "      <td>46100</td>\n",
       "    </tr>\n",
       "  </tbody>\n",
       "</table>\n",
       "</div>"
      ],
      "text/plain": [
       "   Channel  Region  Fresh  Milk  Grocery  Frozen  Detergents_Paper  \\\n",
       "0        2       3  12669  9656     7561     214              2674   \n",
       "1        2       3   7057  9810     9568    1762              3293   \n",
       "2        2       3   6353  8808     7684    2405              3516   \n",
       "3        1       3  13265  1196     4221    6404               507   \n",
       "4        2       3  22615  5410     7198    3915              1777   \n",
       "\n",
       "   Delicassen  Total_Consumption  \n",
       "0        1338              34112  \n",
       "1        1776              33266  \n",
       "2        7844              36610  \n",
       "3        1788              27381  \n",
       "4        5185              46100  "
      ]
     },
     "execution_count": 30,
     "metadata": {},
     "output_type": "execute_result"
    }
   ],
   "source": [
    "# 3. Categorize different customer’s types (Potential > 33000, Average <=33000) \n",
    "##############################################################################\n",
    "\n",
    "# creating Total_Consumption by summing all Annual spending variables\n",
    "df_new['Total_Consumption'] = df_new[list(df.columns[[2,3,4,5,6,7]])].sum(axis=1)\n",
    "\n",
    "df_new.head()"
   ]
  },
  {
   "cell_type": "code",
   "execution_count": 31,
   "metadata": {},
   "outputs": [
    {
     "data": {
      "text/html": [
       "<div>\n",
       "<style scoped>\n",
       "    .dataframe tbody tr th:only-of-type {\n",
       "        vertical-align: middle;\n",
       "    }\n",
       "\n",
       "    .dataframe tbody tr th {\n",
       "        vertical-align: top;\n",
       "    }\n",
       "\n",
       "    .dataframe thead th {\n",
       "        text-align: right;\n",
       "    }\n",
       "</style>\n",
       "<table border=\"1\" class=\"dataframe\">\n",
       "  <thead>\n",
       "    <tr style=\"text-align: right;\">\n",
       "      <th></th>\n",
       "      <th>Channel</th>\n",
       "      <th>Region</th>\n",
       "      <th>Fresh</th>\n",
       "      <th>Milk</th>\n",
       "      <th>Grocery</th>\n",
       "      <th>Frozen</th>\n",
       "      <th>Detergents_Paper</th>\n",
       "      <th>Delicassen</th>\n",
       "      <th>Total_Consumption</th>\n",
       "      <th>Customer_Type</th>\n",
       "    </tr>\n",
       "  </thead>\n",
       "  <tbody>\n",
       "    <tr>\n",
       "      <th>0</th>\n",
       "      <td>2</td>\n",
       "      <td>3</td>\n",
       "      <td>12669</td>\n",
       "      <td>9656</td>\n",
       "      <td>7561</td>\n",
       "      <td>214</td>\n",
       "      <td>2674</td>\n",
       "      <td>1338</td>\n",
       "      <td>34112</td>\n",
       "      <td>1</td>\n",
       "    </tr>\n",
       "    <tr>\n",
       "      <th>1</th>\n",
       "      <td>2</td>\n",
       "      <td>3</td>\n",
       "      <td>7057</td>\n",
       "      <td>9810</td>\n",
       "      <td>9568</td>\n",
       "      <td>1762</td>\n",
       "      <td>3293</td>\n",
       "      <td>1776</td>\n",
       "      <td>33266</td>\n",
       "      <td>1</td>\n",
       "    </tr>\n",
       "    <tr>\n",
       "      <th>2</th>\n",
       "      <td>2</td>\n",
       "      <td>3</td>\n",
       "      <td>6353</td>\n",
       "      <td>8808</td>\n",
       "      <td>7684</td>\n",
       "      <td>2405</td>\n",
       "      <td>3516</td>\n",
       "      <td>7844</td>\n",
       "      <td>36610</td>\n",
       "      <td>1</td>\n",
       "    </tr>\n",
       "    <tr>\n",
       "      <th>3</th>\n",
       "      <td>1</td>\n",
       "      <td>3</td>\n",
       "      <td>13265</td>\n",
       "      <td>1196</td>\n",
       "      <td>4221</td>\n",
       "      <td>6404</td>\n",
       "      <td>507</td>\n",
       "      <td>1788</td>\n",
       "      <td>27381</td>\n",
       "      <td>0</td>\n",
       "    </tr>\n",
       "    <tr>\n",
       "      <th>4</th>\n",
       "      <td>2</td>\n",
       "      <td>3</td>\n",
       "      <td>22615</td>\n",
       "      <td>5410</td>\n",
       "      <td>7198</td>\n",
       "      <td>3915</td>\n",
       "      <td>1777</td>\n",
       "      <td>5185</td>\n",
       "      <td>46100</td>\n",
       "      <td>1</td>\n",
       "    </tr>\n",
       "  </tbody>\n",
       "</table>\n",
       "</div>"
      ],
      "text/plain": [
       "   Channel  Region  Fresh  Milk  Grocery  Frozen  Detergents_Paper  \\\n",
       "0        2       3  12669  9656     7561     214              2674   \n",
       "1        2       3   7057  9810     9568    1762              3293   \n",
       "2        2       3   6353  8808     7684    2405              3516   \n",
       "3        1       3  13265  1196     4221    6404               507   \n",
       "4        2       3  22615  5410     7198    3915              1777   \n",
       "\n",
       "   Delicassen  Total_Consumption Customer_Type  \n",
       "0        1338              34112             1  \n",
       "1        1776              33266             1  \n",
       "2        7844              36610             1  \n",
       "3        1788              27381             0  \n",
       "4        5185              46100             1  "
      ]
     },
     "execution_count": 31,
     "metadata": {},
     "output_type": "execute_result"
    }
   ],
   "source": [
    "# grouping customers with Total_Consumption > 33,000 as Customer_Type 1 and Total_Consumption <= 33,000 as Customer_Type 0\n",
    "df_new['Customer_Type']=np.where(df_new['Total_Consumption']<=33000, '0', '1')\n",
    "df_new.head()"
   ]
  },
  {
   "cell_type": "code",
   "execution_count": 32,
   "metadata": {},
   "outputs": [
    {
     "name": "stdout",
     "output_type": "stream",
     "text": [
      "Coefficients: [[-1.51385006e+00 -1.05652097e+00  2.01508240e-04  2.48788122e-04\n",
      "   2.23217578e-04  1.88344138e-04  3.54990317e-04  3.46784417e-04]]\n",
      "Intercept: [-2.79984773]\n"
     ]
    },
    {
     "name": "stderr",
     "output_type": "stream",
     "text": [
      "/home/abeid/anaconda3/lib/python3.7/site-packages/sklearn/linear_model/logistic.py:433: FutureWarning: Default solver will be changed to 'lbfgs' in 0.22. Specify a solver to silence this warning.\n",
      "  FutureWarning)\n"
     ]
    }
   ],
   "source": [
    "# 3.i Run the Logistic Regression, Decision Trees, Random Forest, and Support Vector  Machines to classify the different categories of customers\n",
    "#################################################################################################################################################\n",
    "\n",
    "# Classifying the Different Categories of Customers Using Logistic Regression\n",
    "from sklearn.linear_model import LogisticRegression\n",
    "from sklearn.metrics import classification_report\n",
    "cols = ['Channel','Region','Fresh','Milk','Grocery','Frozen','Detergents_Paper', 'Delicassen']\n",
    "X = df_new[cols]\n",
    "y = df_new['Customer_Type']\n",
    "logmodel = LogisticRegression()\n",
    "logmodel.fit(X, y)\n",
    "print('Coefficients:', logmodel.coef_)\n",
    "print('Intercept:', logmodel.intercept_)"
   ]
  },
  {
   "cell_type": "code",
   "execution_count": 33,
   "metadata": {},
   "outputs": [],
   "source": [
    "# Classifying the Different Categories of Customers Using Decision Trees, Random Forest & Support Vector Machines\n",
    "\n",
    "# Splitting data\n",
    "cols = ['Channel','Region','Fresh','Milk','Grocery','Frozen','Detergents_Paper', 'Delicassen']\n",
    "X = df_new[cols]\n",
    "y = df_new['Customer_Type']\n",
    "from sklearn.model_selection import train_test_split\n",
    "X_train, X_test, y_train, y_test =train_test_split(X, y, test_size=.3)\n"
   ]
  },
  {
   "cell_type": "code",
   "execution_count": 34,
   "metadata": {},
   "outputs": [
    {
     "name": "stdout",
     "output_type": "stream",
     "text": [
      "              precision    recall  f1-score   support\n",
      "\n",
      "           0       0.88      0.93      0.90        85\n",
      "           1       0.86      0.78      0.82        49\n",
      "\n",
      "   micro avg       0.87      0.87      0.87       134\n",
      "   macro avg       0.87      0.85      0.86       134\n",
      "weighted avg       0.87      0.87      0.87       134\n",
      "\n"
     ]
    }
   ],
   "source": [
    "# DT\n",
    "from sklearn import tree\n",
    "DTclf=tree.DecisionTreeClassifier()\n",
    "\n",
    "DTclf.fit(X_train, y_train)\n",
    "y_pred= DTclf.predict(X_test)\n",
    "\n",
    "from sklearn.metrics import classification_report, confusion_matrix, accuracy_score\n",
    "print(classification_report(y_test, y_pred))"
   ]
  },
  {
   "cell_type": "code",
   "execution_count": 35,
   "metadata": {},
   "outputs": [
    {
     "name": "stdout",
     "output_type": "stream",
     "text": [
      "              precision    recall  f1-score   support\n",
      "\n",
      "           0       0.91      0.96      0.94        85\n",
      "           1       0.93      0.84      0.88        49\n",
      "\n",
      "   micro avg       0.92      0.92      0.92       134\n",
      "   macro avg       0.92      0.90      0.91       134\n",
      "weighted avg       0.92      0.92      0.92       134\n",
      "\n"
     ]
    }
   ],
   "source": [
    "# RF\n",
    "from sklearn.ensemble import RandomForestClassifier\n",
    "RFclf=RandomForestClassifier(n_estimators=11)\n",
    "\n",
    "RFclf.fit(X_train, y_train)\n",
    "y_pred=RFclf.predict(X_test)\n",
    "\n",
    "print(classification_report(y_test, y_pred))"
   ]
  },
  {
   "cell_type": "code",
   "execution_count": 36,
   "metadata": {},
   "outputs": [
    {
     "name": "stdout",
     "output_type": "stream",
     "text": [
      "              precision    recall  f1-score   support\n",
      "\n",
      "           0       0.97      0.98      0.97        85\n",
      "           1       0.96      0.94      0.95        49\n",
      "\n",
      "   micro avg       0.96      0.96      0.96       134\n",
      "   macro avg       0.96      0.96      0.96       134\n",
      "weighted avg       0.96      0.96      0.96       134\n",
      "\n"
     ]
    },
    {
     "name": "stderr",
     "output_type": "stream",
     "text": [
      "/home/abeid/anaconda3/lib/python3.7/site-packages/sklearn/svm/base.py:196: FutureWarning: The default value of gamma will change from 'auto' to 'scale' in version 0.22 to account better for unscaled features. Set gamma explicitly to 'auto' or 'scale' to avoid this warning.\n",
      "  \"avoid this warning.\", FutureWarning)\n"
     ]
    }
   ],
   "source": [
    "# SVC\n",
    "from sklearn.svm import SVC\n",
    "SVclf = SVC(kernel='poly', degree=4)\n",
    "#### kernel='linear', Gaussian kernel: kernel = 'rbf', kernel='sigmoid'\n",
    "\n",
    "SVclf.fit(X_train, y_train)\n",
    "y_pred=SVclf.predict(X_test)\n",
    "\n",
    "print(classification_report(y_test, y_pred))\n"
   ]
  },
  {
   "cell_type": "code",
   "execution_count": 37,
   "metadata": {
    "scrolled": false
   },
   "outputs": [
    {
     "name": "stdout",
     "output_type": "stream",
     "text": [
      "Train Index:  [  0   1   2   3   7   8   9  10  11  12  13  14  15  16  19  20  21  22\n",
      "  23  24  25  26  27  28  30  32  33  34  35  36  37  38  39  41  42  43\n",
      "  44  45  46  48  49  50  51  52  53  54  55  56  57  59  60  61  63  64\n",
      "  66  68  69  70  71  72  73  74  75  76  77  79  80  81  82  83  84  85\n",
      "  86  87  88  89  91  92  93  94  95  96  97  98  99 100 103 104 105 106\n",
      " 108 109 110 111 112 113 114 115 116 118 120 121 123 124 125 126 127 129\n",
      " 130 131 132 133 134 135 136 137 138 140 141 142 143 144 145 146 147 148\n",
      " 149 150 151 152 153 154 155 156 157 158 159 160 163 164 165 166 167 169\n",
      " 170 171 172 175 176 177 178 179 181 182 183 184 185 188 189 190 191 193\n",
      " 194 195 196 197 198 199 200 202 203 204 205 206 208 209 210 211 212 213\n",
      " 215 216 217 218 219 220 222 226 227 229 230 231 233 234 235 237 238 239\n",
      " 240 241 242 243 244 245 247 248 249 251 252 253 254 255 256 258 259 262\n",
      " 263 264 265 266 268 269 271 272 273 275 276 277 278 279 280 281 282 283\n",
      " 285 287 288 290 291 293 294 297 298 299 301 302 303 304 306 307 308 310\n",
      " 312 313 315 316 317 319 320 321 322 323 324 325 326 327 328 330 331 332\n",
      " 333 334 335 336 337 338 339 340 341 342 343 344 345 346 347 348 349 350\n",
      " 352 353 356 357 358 360 361 362 364 365 366 367 368 369 370 371 372 373\n",
      " 374 376 380 382 383 384 386 387 388 390 391 392 393 394 395 396 397 398\n",
      " 400 401 402 403 407 408 409 411 413 414 415 419 420 421 423 424 426 427\n",
      " 428 430 431 432 433 434 436 438 439 440 442 443 444 445]\n",
      "Test Index:  [  4   5   6  17  18  29  31  40  47  58  62  65  67  78  90 101 102 107\n",
      " 117 119 122 128 139 161 162 168 173 174 180 186 187 192 201 207 214 221\n",
      " 223 224 225 228 232 236 246 250 257 260 261 267 270 274 284 286 289 292\n",
      " 295 296 300 305 309 311 314 318 329 351 354 355 359 363 375 377 378 379\n",
      " 381 385 389 399 404 405 406 410 412 416 417 418 422 425 429 435 437 441] \n",
      "\n"
     ]
    },
    {
     "name": "stderr",
     "output_type": "stream",
     "text": [
      "/home/abeid/anaconda3/lib/python3.7/site-packages/sklearn/linear_model/logistic.py:433: FutureWarning: Default solver will be changed to 'lbfgs' in 0.22. Specify a solver to silence this warning.\n",
      "  FutureWarning)\n",
      "/home/abeid/anaconda3/lib/python3.7/site-packages/sklearn/svm/base.py:196: FutureWarning: The default value of gamma will change from 'auto' to 'scale' in version 0.22 to account better for unscaled features. Set gamma explicitly to 'auto' or 'scale' to avoid this warning.\n",
      "  \"avoid this warning.\", FutureWarning)\n",
      "/home/abeid/anaconda3/lib/python3.7/site-packages/sklearn/linear_model/logistic.py:433: FutureWarning: Default solver will be changed to 'lbfgs' in 0.22. Specify a solver to silence this warning.\n",
      "  FutureWarning)\n"
     ]
    },
    {
     "name": "stdout",
     "output_type": "stream",
     "text": [
      "Train Index:  [  0   1   2   3   4   5   6   7   8   9  10  15  16  17  18  19  20  21\n",
      "  22  24  25  26  28  29  30  31  32  33  34  35  36  37  38  40  42  43\n",
      "  44  45  47  48  49  50  51  52  53  54  55  56  57  58  60  62  63  64\n",
      "  65  67  68  70  71  72  74  75  76  77  78  79  83  84  86  87  90  94\n",
      "  96  97  99 100 101 102 103 104 105 107 108 109 110 111 112 113 114 115\n",
      " 116 117 118 119 121 122 126 128 129 130 133 134 135 136 137 138 139 140\n",
      " 141 142 143 144 145 147 148 149 150 151 152 153 154 155 156 158 160 161\n",
      " 162 163 166 167 168 169 170 173 174 175 176 177 178 180 181 182 183 184\n",
      " 186 187 188 190 192 193 194 195 196 198 199 200 201 202 203 205 206 207\n",
      " 209 210 211 212 214 215 216 217 219 220 221 222 223 224 225 226 227 228\n",
      " 229 231 232 233 234 235 236 237 238 239 240 241 243 244 245 246 247 248\n",
      " 249 250 252 253 254 255 257 259 260 261 262 263 264 265 266 267 269 270\n",
      " 271 273 274 275 276 278 279 280 281 282 283 284 286 288 289 290 292 294\n",
      " 295 296 297 299 300 301 302 303 305 306 308 309 311 312 313 314 315 316\n",
      " 317 318 319 320 321 322 323 324 325 326 328 329 332 333 334 335 336 337\n",
      " 338 344 345 348 349 351 352 353 354 355 356 357 358 359 361 362 363 364\n",
      " 365 366 367 369 370 371 372 375 376 377 378 379 380 381 382 383 384 385\n",
      " 386 387 388 389 390 391 393 394 395 396 398 399 401 402 403 404 405 406\n",
      " 408 409 410 411 412 413 414 415 416 417 418 419 420 421 422 423 425 426\n",
      " 427 428 429 430 431 432 434 435 436 437 438 439 440 441 444]\n",
      "Test Index:  [ 11  12  13  14  23  27  39  41  46  59  61  66  69  73  80  81  82  85\n",
      "  88  89  91  92  93  95  98 106 120 123 124 125 127 131 132 146 157 159\n",
      " 164 165 171 172 179 185 189 191 197 204 208 213 218 230 242 251 256 258\n",
      " 268 272 277 285 287 291 293 298 304 307 310 327 330 331 339 340 341 342\n",
      " 343 346 347 350 360 368 373 374 392 397 400 407 424 433 442 443 445] \n",
      "\n",
      "Train Index:  [  1   2   3   4   5   6   7  10  11  12  13  14  15  17  18  20  21  22\n",
      "  23  24  25  26  27  29  30  31  35  36  37  39  40  41  43  45  46  47\n",
      "  49  50  52  54  56  57  58  59  60  61  62  63  64  65  66  67  68  69\n",
      "  71  72  73  74  75  76  77  78  80  81  82  83  85  86  87  88  89  90\n",
      "  91  92  93  94  95  96  97  98 101 102 103 104 106 107 109 114 115 116\n",
      " 117 118 119 120 121 122 123 124 125 126 127 128 129 130 131 132 133 134\n",
      " 136 137 139 140 141 143 144 146 148 149 151 152 153 155 156 157 159 161\n",
      " 162 164 165 166 168 170 171 172 173 174 176 177 178 179 180 181 182 183\n",
      " 184 185 186 187 189 190 191 192 193 194 195 196 197 198 199 200 201 202\n",
      " 203 204 205 207 208 209 210 212 213 214 215 216 217 218 219 220 221 223\n",
      " 224 225 226 228 230 231 232 234 235 236 237 239 240 241 242 243 246 248\n",
      " 250 251 252 253 254 255 256 257 258 259 260 261 262 263 264 265 266 267\n",
      " 268 269 270 272 273 274 276 277 278 279 280 281 282 284 285 286 287 288\n",
      " 289 291 292 293 294 295 296 297 298 300 301 302 304 305 307 308 309 310\n",
      " 311 313 314 316 317 318 319 320 321 322 324 327 329 330 331 332 333 334\n",
      " 335 336 337 338 339 340 341 342 343 346 347 348 349 350 351 352 354 355\n",
      " 356 357 359 360 361 362 363 367 368 370 371 373 374 375 377 378 379 380\n",
      " 381 383 384 385 387 389 390 391 392 393 394 395 396 397 398 399 400 401\n",
      " 402 404 405 406 407 408 409 410 412 413 414 416 417 418 421 422 424 425\n",
      " 426 429 431 432 433 434 435 436 437 439 440 441 442 443 445]\n",
      "Test Index:  [  0   8   9  16  19  28  32  33  34  38  42  44  48  51  53  55  70  79\n",
      "  84  99 100 105 108 110 111 112 113 135 138 142 145 147 150 154 158 160\n",
      " 163 167 169 175 188 206 211 222 227 229 233 238 244 245 247 249 271 275\n",
      " 283 290 299 303 306 312 315 323 325 326 328 344 345 353 358 364 365 366\n",
      " 369 372 376 382 386 388 403 411 415 419 420 423 427 428 430 438 444] \n",
      "\n",
      "Train Index:  "
     ]
    },
    {
     "name": "stderr",
     "output_type": "stream",
     "text": [
      "/home/abeid/anaconda3/lib/python3.7/site-packages/sklearn/svm/base.py:196: FutureWarning: The default value of gamma will change from 'auto' to 'scale' in version 0.22 to account better for unscaled features. Set gamma explicitly to 'auto' or 'scale' to avoid this warning.\n",
      "  \"avoid this warning.\", FutureWarning)\n",
      "/home/abeid/anaconda3/lib/python3.7/site-packages/sklearn/linear_model/logistic.py:433: FutureWarning: Default solver will be changed to 'lbfgs' in 0.22. Specify a solver to silence this warning.\n",
      "  FutureWarning)\n",
      "/home/abeid/anaconda3/lib/python3.7/site-packages/sklearn/svm/base.py:196: FutureWarning: The default value of gamma will change from 'auto' to 'scale' in version 0.22 to account better for unscaled features. Set gamma explicitly to 'auto' or 'scale' to avoid this warning.\n",
      "  \"avoid this warning.\", FutureWarning)\n",
      "/home/abeid/anaconda3/lib/python3.7/site-packages/sklearn/linear_model/logistic.py:433: FutureWarning: Default solver will be changed to 'lbfgs' in 0.22. Specify a solver to silence this warning.\n",
      "  FutureWarning)\n"
     ]
    },
    {
     "name": "stdout",
     "output_type": "stream",
     "text": [
      "[  0   1   3   4   5   6   7   8   9  11  12  13  14  15  16  17  18  19\n",
      "  22  23  25  26  27  28  29  30  31  32  33  34  37  38  39  40  41  42\n",
      "  43  44  46  47  48  49  50  51  53  55  58  59  61  62  64  65  66  67\n",
      "  68  69  70  71  72  73  76  78  79  80  81  82  83  84  85  86  87  88\n",
      "  89  90  91  92  93  95  98  99 100 101 102 104 105 106 107 108 109 110\n",
      " 111 112 113 115 117 119 120 121 122 123 124 125 126 127 128 129 131 132\n",
      " 133 135 136 138 139 141 142 143 144 145 146 147 150 153 154 155 156 157\n",
      " 158 159 160 161 162 163 164 165 166 167 168 169 171 172 173 174 175 178\n",
      " 179 180 185 186 187 188 189 191 192 195 196 197 201 203 204 206 207 208\n",
      " 209 211 213 214 215 216 218 221 222 223 224 225 226 227 228 229 230 232\n",
      " 233 235 236 237 238 239 241 242 244 245 246 247 249 250 251 252 254 255\n",
      " 256 257 258 260 261 264 265 266 267 268 270 271 272 274 275 276 277 279\n",
      " 280 281 282 283 284 285 286 287 288 289 290 291 292 293 295 296 297 298\n",
      " 299 300 303 304 305 306 307 308 309 310 311 312 313 314 315 316 317 318\n",
      " 319 323 325 326 327 328 329 330 331 335 336 339 340 341 342 343 344 345\n",
      " 346 347 350 351 352 353 354 355 356 357 358 359 360 363 364 365 366 367\n",
      " 368 369 370 371 372 373 374 375 376 377 378 379 381 382 384 385 386 387\n",
      " 388 389 390 392 393 394 395 396 397 398 399 400 402 403 404 405 406 407\n",
      " 408 409 410 411 412 413 414 415 416 417 418 419 420 422 423 424 425 427\n",
      " 428 429 430 431 433 434 435 437 438 440 441 442 443 444 445]\n",
      "Test Index:  [  2  10  20  21  24  35  36  45  52  54  56  57  60  63  74  75  77  94\n",
      "  96  97 103 114 116 118 130 134 137 140 148 149 151 152 170 176 177 181\n",
      " 182 183 184 190 193 194 198 199 200 202 205 210 212 217 219 220 231 234\n",
      " 240 243 248 253 259 262 263 269 273 278 294 301 302 320 321 322 324 332\n",
      " 333 334 337 338 348 349 361 362 380 383 391 401 421 426 432 436 439] \n",
      "\n",
      "Train Index:  [  0   2   4   5   6   8   9  10  11  12  13  14  16  17  18  19  20  21\n",
      "  23  24  27  28  29  31  32  33  34  35  36  38  39  40  41  42  44  45\n",
      "  46  47  48  51  52  53  54  55  56  57  58  59  60  61  62  63  65  66\n",
      "  67  69  70  73  74  75  77  78  79  80  81  82  84  85  88  89  90  91\n",
      "  92  93  94  95  96  97  98  99 100 101 102 103 105 106 107 108 110 111\n",
      " 112 113 114 116 117 118 119 120 122 123 124 125 127 128 130 131 132 134\n",
      " 135 137 138 139 140 142 145 146 147 148 149 150 151 152 154 157 158 159\n",
      " 160 161 162 163 164 165 167 168 169 170 171 172 173 174 175 176 177 179\n",
      " 180 181 182 183 184 185 186 187 188 189 190 191 192 193 194 197 198 199\n",
      " 200 201 202 204 205 206 207 208 210 211 212 213 214 217 218 219 220 221\n",
      " 222 223 224 225 227 228 229 230 231 232 233 234 236 238 240 242 243 244\n",
      " 245 246 247 248 249 250 251 253 256 257 258 259 260 261 262 263 267 268\n",
      " 269 270 271 272 273 274 275 277 278 283 284 285 286 287 289 290 291 292\n",
      " 293 294 295 296 298 299 300 301 302 303 304 305 306 307 309 310 311 312\n",
      " 314 315 318 320 321 322 323 324 325 326 327 328 329 330 331 332 333 334\n",
      " 337 338 339 340 341 342 343 344 345 346 347 348 349 350 351 353 354 355\n",
      " 358 359 360 361 362 363 364 365 366 368 369 372 373 374 375 376 377 378\n",
      " 379 380 381 382 383 385 386 388 389 391 392 397 399 400 401 403 404 405\n",
      " 406 407 410 411 412 415 416 417 418 419 420 421 422 423 424 425 426 427\n",
      " 428 429 430 432 433 435 436 437 438 439 441 442 443 444 445]\n",
      "Test Index:  [  1   3   7  15  22  25  26  30  37  43  49  50  64  68  71  72  76  83\n",
      "  86  87 104 109 115 121 126 129 133 136 141 143 144 153 155 156 166 178\n",
      " 195 196 203 209 215 216 226 235 237 239 241 252 254 255 264 265 266 276\n",
      " 279 280 281 282 288 297 308 313 316 317 319 335 336 352 356 357 367 370\n",
      " 371 384 387 390 393 394 395 396 398 402 408 409 413 414 431 434 440] \n",
      "\n",
      "LRscores: 0.9080149812734083\n",
      "DTscores: 0.8832459425717852\n",
      "RFscores: 0.9281897627965042\n",
      "SVscores: 0.9842946317103619\n"
     ]
    },
    {
     "name": "stderr",
     "output_type": "stream",
     "text": [
      "/home/abeid/anaconda3/lib/python3.7/site-packages/sklearn/svm/base.py:196: FutureWarning: The default value of gamma will change from 'auto' to 'scale' in version 0.22 to account better for unscaled features. Set gamma explicitly to 'auto' or 'scale' to avoid this warning.\n",
      "  \"avoid this warning.\", FutureWarning)\n",
      "/home/abeid/anaconda3/lib/python3.7/site-packages/sklearn/linear_model/logistic.py:433: FutureWarning: Default solver will be changed to 'lbfgs' in 0.22. Specify a solver to silence this warning.\n",
      "  FutureWarning)\n",
      "/home/abeid/anaconda3/lib/python3.7/site-packages/sklearn/svm/base.py:196: FutureWarning: The default value of gamma will change from 'auto' to 'scale' in version 0.22 to account better for unscaled features. Set gamma explicitly to 'auto' or 'scale' to avoid this warning.\n",
      "  \"avoid this warning.\", FutureWarning)\n"
     ]
    }
   ],
   "source": [
    "# 3.ii Use K-fold Cross-Validation (k=5) to find the best technique among them\n",
    "###############################################################################\n",
    "cols = ['Channel','Region','Fresh','Milk','Grocery','Frozen','Detergents_Paper', 'Delicassen']\n",
    "X = df_new[cols]\n",
    "y = df_new['Customer_Type']\n",
    "\n",
    "DTscores = []\n",
    "RFscores = []\n",
    "SVscores = []\n",
    "LRscores = []\n",
    "\n",
    "####################Logistic Regression##################\n",
    "from sklearn.linear_model import LogisticRegression\n",
    "logmodel = LogisticRegression()\n",
    "\n",
    "############### DT ###########################################\n",
    "from sklearn import tree\n",
    "DTclf=tree.DecisionTreeClassifier()\n",
    "\n",
    "############### RF ############################################\n",
    "from sklearn.ensemble import RandomForestClassifier\n",
    "RFclf=RandomForestClassifier(n_estimators=11)\n",
    "\n",
    "######################### SVM ##################################\n",
    "from sklearn.svm import SVC\n",
    "SVclf = SVC(kernel='poly', degree=4)\n",
    "\n",
    "\n",
    "from sklearn.model_selection import KFold\n",
    "cv = KFold(n_splits=5, random_state=1, shuffle=True)\n",
    "for train_index, test_index in cv.split(X):\n",
    "    print(\"Train Index: \", train_index)\n",
    "    print(\"Test Index: \", test_index, \"\\n\")\n",
    "\n",
    "    X_train, X_test, y_train, y_test = X.iloc[train_index], X.iloc[test_index], y.iloc[train_index], y.iloc[test_index]\n",
    "    ############# For LR ##################\n",
    "    logmodel.fit(X, y)\n",
    "    LRscores.append(logmodel.score(X_test, y_test))\n",
    "    ############# for DT #################\n",
    "    DTclf.fit(X_train, y_train)\n",
    "    DTscores.append(DTclf.score(X_test, y_test))\n",
    "    ############# for RF #################\n",
    "    RFclf.fit(X_train, y_train)\n",
    "    RFscores.append(RFclf.score(X_test, y_test))\n",
    "    ############# For SVM #################\n",
    "    SVclf.fit(X_train, y_train)\n",
    "    SVscores.append(SVclf.score(X_test, y_test))\n",
    "    \n",
    "print('LRscores:', np.mean(LRscores))\n",
    "print('DTscores:', np.mean(DTscores))\n",
    "print('RFscores:', np.mean(RFscores))\n",
    "print('SVscores:', np.mean(SVscores))\n",
    "\n",
    "# O The best technique among the four techniques using K-fold Corss-Validation (k=5) is Support Vector Machines as \n",
    "# it has the highest score of 0.98."
   ]
  },
  {
   "cell_type": "code",
   "execution_count": 38,
   "metadata": {},
   "outputs": [
    {
     "name": "stdout",
     "output_type": "stream",
     "text": [
      "Confusion Matrix:\n",
      " [[48  1]\n",
      " [ 2 38]]\n",
      "Accuracy Score: 0.9662921348314607\n",
      "Sensitivity :  0.9795918367346939\n",
      "Specificity :  0.95\n",
      "Predictive value positive :  0.96\n",
      "Predictive value negative :  0.9743589743589743\n"
     ]
    },
    {
     "name": "stderr",
     "output_type": "stream",
     "text": [
      "/home/abeid/anaconda3/lib/python3.7/site-packages/sklearn/svm/base.py:196: FutureWarning: The default value of gamma will change from 'auto' to 'scale' in version 0.22 to account better for unscaled features. Set gamma explicitly to 'auto' or 'scale' to avoid this warning.\n",
      "  \"avoid this warning.\", FutureWarning)\n"
     ]
    }
   ],
   "source": [
    "# 3.iii Find the confusion matrix and ROC curve for the best method. Hence, calculate and\n",
    "# interpret: Predictive value positive and negative, Accuracy, Sensitivity, and Specificity of the test.\n",
    "\n",
    "#####Confusion matrix for Support Vector Machines#####\n",
    "from sklearn.svm import SVC\n",
    "SVclf = SVC(kernel='poly', degree=4)\n",
    "### kernel='linear', Gaussian kernel: kernel = 'rbf', kernel='sigmoid'\n",
    "\n",
    "SVclf.fit(X_train, y_train)\n",
    "y_pred=SVclf.predict(X_test)\n",
    "print('Confusion Matrix:\\n', confusion_matrix(y_test, y_pred))\n",
    "print('Accuracy Score:', accuracy_score(y_test, y_pred))\n",
    "\n",
    "#####Calculating Predictive value positive and negative, Accuracy, Sensitivity, and\n",
    "# Specificity of the test#####\n",
    "\n",
    "# confusion matrix of SVM\n",
    "cm = confusion_matrix(y_test, y_pred)\n",
    "\n",
    "# calculating sensitivity from confusion matrix\n",
    "sensitivity = cm[0,0]/(cm[0,0]+cm[0,1])\n",
    "print('Sensitivity : ', sensitivity )\n",
    "\n",
    "# calculating specificity from confusion matrix\n",
    "specificity = cm[1,1]/(cm[1,0]+cm[1,1])\n",
    "print('Specificity : ', specificity)\n",
    "\n",
    "# calculating predictive value positive confusion matrix\n",
    "predictive_value_posive = cm[0,0]/(cm[0,0]+cm[1,0])\n",
    "print('Predictive value positive : ', predictive_value_posive)\n",
    "\n",
    "# calculating predictive value negative from confusion matrix\n",
    "predictive_value_negative = cm[1,1]/(cm[1,1]+cm[0,1])\n",
    "print('Predictive value negative : ', predictive_value_negative)\n",
    "\n",
    "# O Sensitivity: For all instances that were actually positive, 96.4% percent was classified correctly.\n",
    "# O Specificity: For all instances that were actually negative, 98.5% percent was classified correctly.\n",
    "# O Predictive value positive: For all instances classified positive, 99.1% was correct.\n",
    "# O Predictive value negative: For all instances classified negative, 94.4% was correct.\n"
   ]
  },
  {
   "cell_type": "code",
   "execution_count": 39,
   "metadata": {},
   "outputs": [
    {
     "name": "stderr",
     "output_type": "stream",
     "text": [
      "/home/abeid/anaconda3/lib/python3.7/site-packages/sklearn/svm/base.py:196: FutureWarning: The default value of gamma will change from 'auto' to 'scale' in version 0.22 to account better for unscaled features. Set gamma explicitly to 'auto' or 'scale' to avoid this warning.\n",
      "  \"avoid this warning.\", FutureWarning)\n"
     ]
    },
    {
     "name": "stdout",
     "output_type": "stream",
     "text": [
      "AUC: 0.9988076311605724\n"
     ]
    },
    {
     "data": {
      "image/png": "[encoded data removed]",
      "text/plain": [
       "<Figure size 432x288 with 1 Axes>"
      ]
     },
     "metadata": {},
     "output_type": "display_data"
    }
   ],
   "source": [
    "#####ROC CURVE#####\n",
    "\n",
    "# Split the data into train and test sub-datasets\n",
    "cols = ['Channel','Region','Fresh','Milk','Grocery','Frozen','Detergents_Paper', 'Delicassen']\n",
    "X = df_new[cols]\n",
    "y = df_new['Customer_Type']\n",
    "\n",
    "from sklearn.model_selection import train_test_split\n",
    "X_train, X_test, y_train, y_test = train_test_split(X, y, test_size=.4, random_state=0)\n",
    "\n",
    "# fit SVM model on the train data\n",
    "from sklearn.svm import SVC\n",
    "model = SVC(kernel='poly', degree=4)\n",
    "model.fit(X_train, y_train)\n",
    "\n",
    "# predict probabilities for the test data\n",
    "probs = model.decision_function(X_test)\n",
    "\n",
    "# compute the AUC Score\n",
    "from sklearn.metrics import roc_curve, roc_auc_score\n",
    "auc = roc_auc_score(y_test, probs)\n",
    "print('AUC:', auc)\n",
    "\n",
    "# get the ROC Curve\n",
    "fpr, tpr, thresholds = roc_curve(y_test, probs, pos_label='1')\n",
    "\n",
    "# Plot ROC Curve\n",
    "plt.figure()\n",
    "plt.plot(fpr, tpr, color='darkorange', lw=3, label='ROC curve (area = %0.2f)' % auc)\n",
    "plt.plot([0, 1], [0, 1], color='navy', lw=3, linestyle='--')\n",
    "# axis limits\n",
    "plt.xlim([0.0, 1.0])\n",
    "plt.ylim([0.0, 1.05])\n",
    "# axis labels\n",
    "plt.xlabel('False Positive Rate')\n",
    "plt.ylabel('True Positive Rate')\n",
    "# show the legend\n",
    "plt.legend(loc=\"lower right\")\n",
    "# plt.title('Receiver operating characteristic example')\n",
    "# show the plot\n",
    "plt.show()\n"
   ]
  }
 ],
 "metadata": {
  "kernelspec": {
   "display_name": "Python 3",
   "language": "python",
   "name": "python3"
  },
  "language_info": {
   "codemirror_mode": {
    "name": "ipython",
    "version": 3
   },
   "file_extension": ".py",
   "mimetype": "text/x-python",
   "name": "python",
   "nbconvert_exporter": "python",
   "pygments_lexer": "ipython3",
   "version": "3.7.3"
  }
 },
 "nbformat": 4,
 "nbformat_minor": 2
}
